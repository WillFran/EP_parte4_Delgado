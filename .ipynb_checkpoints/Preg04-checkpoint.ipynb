{
 "cells": [
  {
   "cell_type": "code",
   "execution_count": 4,
   "id": "d1ffeaa0",
   "metadata": {},
   "outputs": [
    {
     "name": "stdout",
     "output_type": "stream",
     "text": [
      "Ingresa el valor de la ganancia: 1000\n",
      "Valor del donativo: 50.0\n"
     ]
    }
   ],
   "source": [
    "import os\n",
    "\n",
    "ganancia = float (input ('Ingresa el valor de la ganancia: '))\n",
    "\n",
    "if ganancia>0 and ganancia<=1000:\n",
    "    donativo=ganancia*0.05\n",
    "\n",
    "if ganancia>1000 and ganancia<=1500:\n",
    "    donativo=ganancia*0.7\n",
    "\n",
    "\n",
    "if ganancia>1500 and ganancia<=2000:\n",
    "    donativo=ganancia*0.08\n",
    "\n",
    "\n",
    "if ganancia>2000 and ganancia<=5000:\n",
    "    donativo=ganancia*0.10\n",
    "\n",
    "if ganancia>5000:\n",
    "    donativo=ganancia*0.15\n",
    "print ('Valor del donativo: ' + repr (donativo))\n"
   ]
  },
  {
   "cell_type": "code",
   "execution_count": null,
   "id": "930ab0fd",
   "metadata": {},
   "outputs": [],
   "source": []
  },
  {
   "cell_type": "code",
   "execution_count": null,
   "id": "8b93a154",
   "metadata": {},
   "outputs": [],
   "source": []
  },
  {
   "cell_type": "code",
   "execution_count": null,
   "id": "9daebd56",
   "metadata": {},
   "outputs": [],
   "source": []
  }
 ],
 "metadata": {
  "kernelspec": {
   "display_name": "Python 3 (ipykernel)",
   "language": "python",
   "name": "python3"
  },
  "language_info": {
   "codemirror_mode": {
    "name": "ipython",
    "version": 3
   },
   "file_extension": ".py",
   "mimetype": "text/x-python",
   "name": "python",
   "nbconvert_exporter": "python",
   "pygments_lexer": "ipython3",
   "version": "3.9.12"
  }
 },
 "nbformat": 4,
 "nbformat_minor": 5
}
